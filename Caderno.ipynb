{
  "nbformat": 4,
  "nbformat_minor": 0,
  "metadata": {
    "colab": {
      "name": "Untitled0.ipynb",
      "provenance": [],
      "authorship_tag": "ABX9TyNt+xI1jfmoXdR4tJP+pFvH",
      "include_colab_link": true
    },
    "kernelspec": {
      "name": "python3",
      "display_name": "Python 3"
    }
  },
  "cells": [
    {
      "cell_type": "markdown",
      "metadata": {
        "id": "view-in-github",
        "colab_type": "text"
      },
      "source": [
        "<a href=\"https://colab.research.google.com/github/leoexcelsus/siglla_phase2/blob/main/Caderno.ipynb\" target=\"_parent\"><img src=\"https://colab.research.google.com/assets/colab-badge.svg\" alt=\"Open In Colab\"/></a>"
      ]
    },
    {
      "cell_type": "code",
      "metadata": {
        "id": "7mESXbI-oVlG",
        "outputId": "b2593202-065c-4763-900c-a54351f4a6cf",
        "colab": {
          "base_uri": "https://localhost:8080/",
          "height": 419
        }
      },
      "source": [
        "import pandas as pd\n",
        "import sys\n",
        "import csv\n",
        "\n",
        "csv.field_size_limit(sys.maxsize)\n",
        "df = pd.read_csv('https://github.com/leoexcelsus/siglla_phase2/raw/main/ml_dataset_siglla%C2%A3.txt', sep=\"£\",engine='python' )\n",
        "df\n"
      ],
      "execution_count": 5,
      "outputs": [
        {
          "output_type": "execute_result",
          "data": {
            "text/html": [
              "<div>\n",
              "<style scoped>\n",
              "    .dataframe tbody tr th:only-of-type {\n",
              "        vertical-align: middle;\n",
              "    }\n",
              "\n",
              "    .dataframe tbody tr th {\n",
              "        vertical-align: top;\n",
              "    }\n",
              "\n",
              "    .dataframe thead th {\n",
              "        text-align: right;\n",
              "    }\n",
              "</style>\n",
              "<table border=\"1\" class=\"dataframe\">\n",
              "  <thead>\n",
              "    <tr style=\"text-align: right;\">\n",
              "      <th></th>\n",
              "      <th>text</th>\n",
              "      <th>value</th>\n",
              "    </tr>\n",
              "  </thead>\n",
              "  <tbody>\n",
              "    <tr>\n",
              "      <th>0</th>\n",
              "      <td>LEI COMPLEMENTAR Nº 140, DE 8 DE DEZEMBRO DE 2...</td>\n",
              "      <td>sim</td>\n",
              "    </tr>\n",
              "    <tr>\n",
              "      <th>1</th>\n",
              "      <td>LEI Nº 6.938, DE 31 DE AGOSTO DE 1981 Regulame...</td>\n",
              "      <td>sim</td>\n",
              "    </tr>\n",
              "    <tr>\n",
              "      <th>2</th>\n",
              "      <td>DECRETO Nº 8.437, DE 22 DE ABRIL DE 2015 Regul...</td>\n",
              "      <td>sim</td>\n",
              "    </tr>\n",
              "    <tr>\n",
              "      <th>3</th>\n",
              "      <td>LEI Nº 13.874, DE 20 DE SETEMBRO DE 2019 Mensa...</td>\n",
              "      <td>sim</td>\n",
              "    </tr>\n",
              "    <tr>\n",
              "      <th>4</th>\n",
              "      <td>LEI No 9.985, DE 18 DE JULHO DE 2000. Mensagem...</td>\n",
              "      <td>sim</td>\n",
              "    </tr>\n",
              "    <tr>\n",
              "      <th>...</th>\n",
              "      <td>...</td>\n",
              "      <td>...</td>\n",
              "    </tr>\n",
              "    <tr>\n",
              "      <th>254</th>\n",
              "      <td>Ir para o conteúdo Ir para o rodapé IR PARA O ...</td>\n",
              "      <td>n</td>\n",
              "    </tr>\n",
              "    <tr>\n",
              "      <th>255</th>\n",
              "      <td>DIÁRIO OFICIAL DA UNIÃO Publicado em: 22/02/20...</td>\n",
              "      <td>n</td>\n",
              "    </tr>\n",
              "    <tr>\n",
              "      <th>256</th>\n",
              "      <td>PORTARIA N° 121, DE 1º DE MARÇO DE 2016 O SECR...</td>\n",
              "      <td>n</td>\n",
              "    </tr>\n",
              "    <tr>\n",
              "      <th>257</th>\n",
              "      <td>DIÁRIO OFICIAL DA UNIÃO Publicado em: 01/03/20...</td>\n",
              "      <td>n</td>\n",
              "    </tr>\n",
              "    <tr>\n",
              "      <th>258</th>\n",
              "      <td>DIÁRIO OFICIAL DA UNIÃO Publicado em: 24/02/20...</td>\n",
              "      <td>n</td>\n",
              "    </tr>\n",
              "  </tbody>\n",
              "</table>\n",
              "<p>259 rows × 2 columns</p>\n",
              "</div>"
            ],
            "text/plain": [
              "                                                  text value\n",
              "0    LEI COMPLEMENTAR Nº 140, DE 8 DE DEZEMBRO DE 2...   sim\n",
              "1    LEI Nº 6.938, DE 31 DE AGOSTO DE 1981 Regulame...   sim\n",
              "2    DECRETO Nº 8.437, DE 22 DE ABRIL DE 2015 Regul...   sim\n",
              "3    LEI Nº 13.874, DE 20 DE SETEMBRO DE 2019 Mensa...   sim\n",
              "4    LEI No 9.985, DE 18 DE JULHO DE 2000. Mensagem...   sim\n",
              "..                                                 ...   ...\n",
              "254  Ir para o conteúdo Ir para o rodapé IR PARA O ...     n\n",
              "255  DIÁRIO OFICIAL DA UNIÃO Publicado em: 22/02/20...     n\n",
              "256  PORTARIA N° 121, DE 1º DE MARÇO DE 2016 O SECR...     n\n",
              "257  DIÁRIO OFICIAL DA UNIÃO Publicado em: 01/03/20...     n\n",
              "258  DIÁRIO OFICIAL DA UNIÃO Publicado em: 24/02/20...     n\n",
              "\n",
              "[259 rows x 2 columns]"
            ]
          },
          "metadata": {
            "tags": []
          },
          "execution_count": 5
        }
      ]
    },
    {
      "cell_type": "code",
      "metadata": {
        "id": "ZD-2ADsYwCzB"
      },
      "source": [
        ""
      ],
      "execution_count": null,
      "outputs": []
    }
  ]
}